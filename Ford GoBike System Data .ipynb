{
 "cells": [
  {
   "cell_type": "markdown",
   "metadata": {
    "slideshow": {
     "slide_type": "slide"
    }
   },
   "source": [
    "# Analyzing Ford GoBike Data for (December 2019)\n",
    "\n",
    "### Introduction:\n",
    "\n",
    "- Ford GoBike is a bicycle sharing system in the San Francisco Bay Area, California. Beginning of operation in August 2013 as Bay Area Bike Share, the Ford GoBike system currently has over 2,600 bicycles in 262 stations across San Francisco, East Bay and San Jose. On June 28, 2017, the system officially launched as Ford GoBike in a partnership with Ford Motor Company.      The bicycles are available 24 hours a day, seven days a week for periods ranging from a single ride (up to 30 minutes) to a day pass, in 30-minute increments, or customers can purchase an annual subscription which gives them unlimited rides up to 45-minutes in duration. Single rides cost 2 dollars  per trip, day passes cost 10 dollars per day, and memberships cost 15 dollars per month or 149 dollars per year.\n",
    "\n",
    "\n",
    "- **Why analyzing this data set?**\n",
    "- What interests me about this data set is to see who use this system the most? when its used the most during the day and week?   the age/gender of the customers who use it the most?\n",
    "\n",
    "\n",
    "\n",
    "\n",
    "- I choose to analyse (December 2019) data set because December is filled with public holidays specially in the last two weeks of it. And December 2019 data set its the last data set available before the COVID 19 pandemic went worldwide."
   ]
  },
  {
   "cell_type": "markdown",
   "metadata": {
    "slideshow": {
     "slide_type": "skip"
    }
   },
   "source": [
    "### Data Gathering "
   ]
  },
  {
   "cell_type": "code",
   "execution_count": 2,
   "metadata": {
    "slideshow": {
     "slide_type": "skip"
    }
   },
   "outputs": [],
   "source": [
    "#  libraries to be used in this project:\n",
    "import numpy as np\n",
    "import pandas as pd\n",
    "import matplotlib.pyplot as plt\n",
    "import seaborn as sb\n",
    "import zipfile\n",
    "\n",
    "\n",
    "%matplotlib inline"
   ]
  },
  {
   "cell_type": "code",
   "execution_count": 8,
   "metadata": {
    "slideshow": {
     "slide_type": "skip"
    }
   },
   "outputs": [],
   "source": [
    "# unzipping the data set file \n",
    "with zipfile.ZipFile('201912-baywheels-tripdata.csv.zip', 'r') as myzip:\n",
    "    myzip.extractall()"
   ]
  },
  {
   "cell_type": "code",
   "execution_count": 3,
   "metadata": {
    "slideshow": {
     "slide_type": "skip"
    }
   },
   "outputs": [
    {
     "name": "stderr",
     "output_type": "stream",
     "text": [
      "C:\\Users\\Malik\\Anaconda3\\lib\\site-packages\\IPython\\core\\interactiveshell.py:3051: DtypeWarning: Columns (13) have mixed types.Specify dtype option on import or set low_memory=False.\n",
      "  interactivity=interactivity, compiler=compiler, result=result)\n"
     ]
    }
   ],
   "source": [
    "df = pd.read_csv('201912-baywheels-tripdata.csv')"
   ]
  },
  {
   "cell_type": "markdown",
   "metadata": {
    "slideshow": {
     "slide_type": "skip"
    }
   },
   "source": [
    "### Assessing Data"
   ]
  },
  {
   "cell_type": "code",
   "execution_count": 35,
   "metadata": {
    "slideshow": {
     "slide_type": "skip"
    }
   },
   "outputs": [
    {
     "data": {
      "text/html": [
       "<div>\n",
       "<style scoped>\n",
       "    .dataframe tbody tr th:only-of-type {\n",
       "        vertical-align: middle;\n",
       "    }\n",
       "\n",
       "    .dataframe tbody tr th {\n",
       "        vertical-align: top;\n",
       "    }\n",
       "\n",
       "    .dataframe thead th {\n",
       "        text-align: right;\n",
       "    }\n",
       "</style>\n",
       "<table border=\"1\" class=\"dataframe\">\n",
       "  <thead>\n",
       "    <tr style=\"text-align: right;\">\n",
       "      <th></th>\n",
       "      <th>duration_sec</th>\n",
       "      <th>start_time</th>\n",
       "      <th>end_time</th>\n",
       "      <th>start_station_id</th>\n",
       "      <th>start_station_name</th>\n",
       "      <th>end_station_id</th>\n",
       "      <th>end_station_name</th>\n",
       "      <th>bike_id</th>\n",
       "      <th>user_type</th>\n",
       "      <th>rental_access_method</th>\n",
       "    </tr>\n",
       "  </thead>\n",
       "  <tbody>\n",
       "    <tr>\n",
       "      <th>0</th>\n",
       "      <td>66600</td>\n",
       "      <td>2019-12-31 14:28:50.2860</td>\n",
       "      <td>2020-01-01 08:58:51.2500</td>\n",
       "      <td>364.0</td>\n",
       "      <td>China Basin St at 3rd St</td>\n",
       "      <td>349.0</td>\n",
       "      <td>Howard St at Mary St</td>\n",
       "      <td>12085</td>\n",
       "      <td>Customer</td>\n",
       "      <td>NaN</td>\n",
       "    </tr>\n",
       "    <tr>\n",
       "      <th>1</th>\n",
       "      <td>36526</td>\n",
       "      <td>2019-12-31 21:52:47.7620</td>\n",
       "      <td>2020-01-01 08:01:33.9320</td>\n",
       "      <td>38.0</td>\n",
       "      <td>The Embarcadero at Pier 38</td>\n",
       "      <td>410.0</td>\n",
       "      <td>Illinois St at Cesar Chavez St</td>\n",
       "      <td>9477</td>\n",
       "      <td>Customer</td>\n",
       "      <td>NaN</td>\n",
       "    </tr>\n",
       "    <tr>\n",
       "      <th>2</th>\n",
       "      <td>8164</td>\n",
       "      <td>2019-12-31 23:50:04.8770</td>\n",
       "      <td>2020-01-01 02:06:09.4140</td>\n",
       "      <td>14.0</td>\n",
       "      <td>Clay St at Battery St</td>\n",
       "      <td>6.0</td>\n",
       "      <td>The Embarcadero at Sansome St</td>\n",
       "      <td>10420</td>\n",
       "      <td>Customer</td>\n",
       "      <td>NaN</td>\n",
       "    </tr>\n",
       "    <tr>\n",
       "      <th>3</th>\n",
       "      <td>8163</td>\n",
       "      <td>2019-12-31 23:49:21.4000</td>\n",
       "      <td>2020-01-01 02:05:24.6670</td>\n",
       "      <td>14.0</td>\n",
       "      <td>Clay St at Battery St</td>\n",
       "      <td>6.0</td>\n",
       "      <td>The Embarcadero at Sansome St</td>\n",
       "      <td>2065</td>\n",
       "      <td>Customer</td>\n",
       "      <td>NaN</td>\n",
       "    </tr>\n",
       "    <tr>\n",
       "      <th>4</th>\n",
       "      <td>6847</td>\n",
       "      <td>2019-12-31 22:51:05.6850</td>\n",
       "      <td>2020-01-01 00:45:13.4860</td>\n",
       "      <td>3.0</td>\n",
       "      <td>Powell St BART Station (Market St at 4th St)</td>\n",
       "      <td>363.0</td>\n",
       "      <td>Salesforce Transit Center (Natoma St at 2nd St)</td>\n",
       "      <td>10219</td>\n",
       "      <td>Customer</td>\n",
       "      <td>NaN</td>\n",
       "    </tr>\n",
       "    <tr>\n",
       "      <th>...</th>\n",
       "      <td>...</td>\n",
       "      <td>...</td>\n",
       "      <td>...</td>\n",
       "      <td>...</td>\n",
       "      <td>...</td>\n",
       "      <td>...</td>\n",
       "      <td>...</td>\n",
       "      <td>...</td>\n",
       "      <td>...</td>\n",
       "      <td>...</td>\n",
       "    </tr>\n",
       "    <tr>\n",
       "      <th>150097</th>\n",
       "      <td>731</td>\n",
       "      <td>2019-12-28 18:37:29</td>\n",
       "      <td>2019-12-28 18:49:40</td>\n",
       "      <td>NaN</td>\n",
       "      <td>NaN</td>\n",
       "      <td>NaN</td>\n",
       "      <td>NaN</td>\n",
       "      <td>719651</td>\n",
       "      <td>Subscriber</td>\n",
       "      <td>app</td>\n",
       "    </tr>\n",
       "    <tr>\n",
       "      <th>150098</th>\n",
       "      <td>748</td>\n",
       "      <td>2019-12-28 18:37:24</td>\n",
       "      <td>2019-12-28 18:49:53</td>\n",
       "      <td>NaN</td>\n",
       "      <td>NaN</td>\n",
       "      <td>NaN</td>\n",
       "      <td>NaN</td>\n",
       "      <td>655411</td>\n",
       "      <td>Subscriber</td>\n",
       "      <td>app</td>\n",
       "    </tr>\n",
       "    <tr>\n",
       "      <th>150099</th>\n",
       "      <td>1044</td>\n",
       "      <td>2019-12-26 14:25:37</td>\n",
       "      <td>2019-12-26 14:43:02</td>\n",
       "      <td>NaN</td>\n",
       "      <td>NaN</td>\n",
       "      <td>NaN</td>\n",
       "      <td>NaN</td>\n",
       "      <td>936881</td>\n",
       "      <td>Subscriber</td>\n",
       "      <td>app</td>\n",
       "    </tr>\n",
       "    <tr>\n",
       "      <th>150100</th>\n",
       "      <td>326</td>\n",
       "      <td>2019-12-30 20:35:43</td>\n",
       "      <td>2019-12-30 20:41:09</td>\n",
       "      <td>NaN</td>\n",
       "      <td>NaN</td>\n",
       "      <td>NaN</td>\n",
       "      <td>NaN</td>\n",
       "      <td>397539</td>\n",
       "      <td>Subscriber</td>\n",
       "      <td>app</td>\n",
       "    </tr>\n",
       "    <tr>\n",
       "      <th>150101</th>\n",
       "      <td>4023</td>\n",
       "      <td>2019-12-31 19:26:48</td>\n",
       "      <td>2019-12-31 20:33:52</td>\n",
       "      <td>NaN</td>\n",
       "      <td>NaN</td>\n",
       "      <td>NaN</td>\n",
       "      <td>NaN</td>\n",
       "      <td>662304</td>\n",
       "      <td>Subscriber</td>\n",
       "      <td>app</td>\n",
       "    </tr>\n",
       "  </tbody>\n",
       "</table>\n",
       "<p>150102 rows × 10 columns</p>\n",
       "</div>"
      ],
      "text/plain": [
       "        duration_sec                start_time                  end_time  \\\n",
       "0              66600  2019-12-31 14:28:50.2860  2020-01-01 08:58:51.2500   \n",
       "1              36526  2019-12-31 21:52:47.7620  2020-01-01 08:01:33.9320   \n",
       "2               8164  2019-12-31 23:50:04.8770  2020-01-01 02:06:09.4140   \n",
       "3               8163  2019-12-31 23:49:21.4000  2020-01-01 02:05:24.6670   \n",
       "4               6847  2019-12-31 22:51:05.6850  2020-01-01 00:45:13.4860   \n",
       "...              ...                       ...                       ...   \n",
       "150097           731       2019-12-28 18:37:29       2019-12-28 18:49:40   \n",
       "150098           748       2019-12-28 18:37:24       2019-12-28 18:49:53   \n",
       "150099          1044       2019-12-26 14:25:37       2019-12-26 14:43:02   \n",
       "150100           326       2019-12-30 20:35:43       2019-12-30 20:41:09   \n",
       "150101          4023       2019-12-31 19:26:48       2019-12-31 20:33:52   \n",
       "\n",
       "        start_station_id                            start_station_name  \\\n",
       "0                  364.0                      China Basin St at 3rd St   \n",
       "1                   38.0                    The Embarcadero at Pier 38   \n",
       "2                   14.0                         Clay St at Battery St   \n",
       "3                   14.0                         Clay St at Battery St   \n",
       "4                    3.0  Powell St BART Station (Market St at 4th St)   \n",
       "...                  ...                                           ...   \n",
       "150097               NaN                                           NaN   \n",
       "150098               NaN                                           NaN   \n",
       "150099               NaN                                           NaN   \n",
       "150100               NaN                                           NaN   \n",
       "150101               NaN                                           NaN   \n",
       "\n",
       "        end_station_id                                 end_station_name  \\\n",
       "0                349.0                             Howard St at Mary St   \n",
       "1                410.0                   Illinois St at Cesar Chavez St   \n",
       "2                  6.0                    The Embarcadero at Sansome St   \n",
       "3                  6.0                    The Embarcadero at Sansome St   \n",
       "4                363.0  Salesforce Transit Center (Natoma St at 2nd St)   \n",
       "...                ...                                              ...   \n",
       "150097             NaN                                              NaN   \n",
       "150098             NaN                                              NaN   \n",
       "150099             NaN                                              NaN   \n",
       "150100             NaN                                              NaN   \n",
       "150101             NaN                                              NaN   \n",
       "\n",
       "        bike_id   user_type rental_access_method  \n",
       "0         12085    Customer                  NaN  \n",
       "1          9477    Customer                  NaN  \n",
       "2         10420    Customer                  NaN  \n",
       "3          2065    Customer                  NaN  \n",
       "4         10219    Customer                  NaN  \n",
       "...         ...         ...                  ...  \n",
       "150097   719651  Subscriber                  app  \n",
       "150098   655411  Subscriber                  app  \n",
       "150099   936881  Subscriber                  app  \n",
       "150100   397539  Subscriber                  app  \n",
       "150101   662304  Subscriber                  app  \n",
       "\n",
       "[150102 rows x 10 columns]"
      ]
     },
     "execution_count": 35,
     "metadata": {},
     "output_type": "execute_result"
    }
   ],
   "source": [
    "df"
   ]
  },
  {
   "cell_type": "code",
   "execution_count": 18,
   "metadata": {
    "slideshow": {
     "slide_type": "skip"
    }
   },
   "outputs": [
    {
     "name": "stdout",
     "output_type": "stream",
     "text": [
      "<class 'pandas.core.frame.DataFrame'>\n",
      "RangeIndex: 150102 entries, 0 to 150101\n",
      "Data columns (total 14 columns):\n",
      " #   Column                   Non-Null Count   Dtype  \n",
      "---  ------                   --------------   -----  \n",
      " 0   duration_sec             150102 non-null  int64  \n",
      " 1   start_time               150102 non-null  object \n",
      " 2   end_time                 150102 non-null  object \n",
      " 3   start_station_id         129083 non-null  float64\n",
      " 4   start_station_name       129087 non-null  object \n",
      " 5   start_station_latitude   150102 non-null  float64\n",
      " 6   start_station_longitude  150102 non-null  float64\n",
      " 7   end_station_id           128755 non-null  float64\n",
      " 8   end_station_name         128757 non-null  object \n",
      " 9   end_station_latitude     150102 non-null  float64\n",
      " 10  end_station_longitude    150102 non-null  float64\n",
      " 11  bike_id                  150102 non-null  int64  \n",
      " 12  user_type                150102 non-null  object \n",
      " 13  rental_access_method     27681 non-null   object \n",
      "dtypes: float64(6), int64(2), object(6)\n",
      "memory usage: 16.0+ MB\n"
     ]
    }
   ],
   "source": [
    "df.info()"
   ]
  },
  {
   "cell_type": "code",
   "execution_count": 14,
   "metadata": {
    "slideshow": {
     "slide_type": "skip"
    }
   },
   "outputs": [
    {
     "data": {
      "text/html": [
       "<div>\n",
       "<style scoped>\n",
       "    .dataframe tbody tr th:only-of-type {\n",
       "        vertical-align: middle;\n",
       "    }\n",
       "\n",
       "    .dataframe tbody tr th {\n",
       "        vertical-align: top;\n",
       "    }\n",
       "\n",
       "    .dataframe thead th {\n",
       "        text-align: right;\n",
       "    }\n",
       "</style>\n",
       "<table border=\"1\" class=\"dataframe\">\n",
       "  <thead>\n",
       "    <tr style=\"text-align: right;\">\n",
       "      <th></th>\n",
       "      <th>duration_sec</th>\n",
       "      <th>start_time</th>\n",
       "      <th>end_time</th>\n",
       "      <th>start_station_id</th>\n",
       "      <th>start_station_name</th>\n",
       "      <th>start_station_latitude</th>\n",
       "      <th>start_station_longitude</th>\n",
       "      <th>end_station_id</th>\n",
       "      <th>end_station_name</th>\n",
       "      <th>end_station_latitude</th>\n",
       "      <th>end_station_longitude</th>\n",
       "      <th>bike_id</th>\n",
       "      <th>user_type</th>\n",
       "      <th>rental_access_method</th>\n",
       "    </tr>\n",
       "  </thead>\n",
       "  <tbody>\n",
       "    <tr>\n",
       "      <th>0</th>\n",
       "      <td>66600</td>\n",
       "      <td>2019-12-31 14:28:50.2860</td>\n",
       "      <td>2020-01-01 08:58:51.2500</td>\n",
       "      <td>364.0</td>\n",
       "      <td>China Basin St at 3rd St</td>\n",
       "      <td>37.772000</td>\n",
       "      <td>-122.389970</td>\n",
       "      <td>349.0</td>\n",
       "      <td>Howard St at Mary St</td>\n",
       "      <td>37.781010</td>\n",
       "      <td>-122.405666</td>\n",
       "      <td>12085</td>\n",
       "      <td>Customer</td>\n",
       "      <td>NaN</td>\n",
       "    </tr>\n",
       "    <tr>\n",
       "      <th>1</th>\n",
       "      <td>36526</td>\n",
       "      <td>2019-12-31 21:52:47.7620</td>\n",
       "      <td>2020-01-01 08:01:33.9320</td>\n",
       "      <td>38.0</td>\n",
       "      <td>The Embarcadero at Pier 38</td>\n",
       "      <td>37.782926</td>\n",
       "      <td>-122.387921</td>\n",
       "      <td>410.0</td>\n",
       "      <td>Illinois St at Cesar Chavez St</td>\n",
       "      <td>37.750200</td>\n",
       "      <td>-122.386567</td>\n",
       "      <td>9477</td>\n",
       "      <td>Customer</td>\n",
       "      <td>NaN</td>\n",
       "    </tr>\n",
       "    <tr>\n",
       "      <th>2</th>\n",
       "      <td>8164</td>\n",
       "      <td>2019-12-31 23:50:04.8770</td>\n",
       "      <td>2020-01-01 02:06:09.4140</td>\n",
       "      <td>14.0</td>\n",
       "      <td>Clay St at Battery St</td>\n",
       "      <td>37.795001</td>\n",
       "      <td>-122.399970</td>\n",
       "      <td>6.0</td>\n",
       "      <td>The Embarcadero at Sansome St</td>\n",
       "      <td>37.804770</td>\n",
       "      <td>-122.403234</td>\n",
       "      <td>10420</td>\n",
       "      <td>Customer</td>\n",
       "      <td>NaN</td>\n",
       "    </tr>\n",
       "    <tr>\n",
       "      <th>3</th>\n",
       "      <td>8163</td>\n",
       "      <td>2019-12-31 23:49:21.4000</td>\n",
       "      <td>2020-01-01 02:05:24.6670</td>\n",
       "      <td>14.0</td>\n",
       "      <td>Clay St at Battery St</td>\n",
       "      <td>37.795001</td>\n",
       "      <td>-122.399970</td>\n",
       "      <td>6.0</td>\n",
       "      <td>The Embarcadero at Sansome St</td>\n",
       "      <td>37.804770</td>\n",
       "      <td>-122.403234</td>\n",
       "      <td>2065</td>\n",
       "      <td>Customer</td>\n",
       "      <td>NaN</td>\n",
       "    </tr>\n",
       "    <tr>\n",
       "      <th>4</th>\n",
       "      <td>6847</td>\n",
       "      <td>2019-12-31 22:51:05.6850</td>\n",
       "      <td>2020-01-01 00:45:13.4860</td>\n",
       "      <td>3.0</td>\n",
       "      <td>Powell St BART Station (Market St at 4th St)</td>\n",
       "      <td>37.786375</td>\n",
       "      <td>-122.404904</td>\n",
       "      <td>363.0</td>\n",
       "      <td>Salesforce Transit Center (Natoma St at 2nd St)</td>\n",
       "      <td>37.787492</td>\n",
       "      <td>-122.398285</td>\n",
       "      <td>10219</td>\n",
       "      <td>Customer</td>\n",
       "      <td>NaN</td>\n",
       "    </tr>\n",
       "  </tbody>\n",
       "</table>\n",
       "</div>"
      ],
      "text/plain": [
       "   duration_sec                start_time                  end_time  \\\n",
       "0         66600  2019-12-31 14:28:50.2860  2020-01-01 08:58:51.2500   \n",
       "1         36526  2019-12-31 21:52:47.7620  2020-01-01 08:01:33.9320   \n",
       "2          8164  2019-12-31 23:50:04.8770  2020-01-01 02:06:09.4140   \n",
       "3          8163  2019-12-31 23:49:21.4000  2020-01-01 02:05:24.6670   \n",
       "4          6847  2019-12-31 22:51:05.6850  2020-01-01 00:45:13.4860   \n",
       "\n",
       "   start_station_id                            start_station_name  \\\n",
       "0             364.0                      China Basin St at 3rd St   \n",
       "1              38.0                    The Embarcadero at Pier 38   \n",
       "2              14.0                         Clay St at Battery St   \n",
       "3              14.0                         Clay St at Battery St   \n",
       "4               3.0  Powell St BART Station (Market St at 4th St)   \n",
       "\n",
       "   start_station_latitude  start_station_longitude  end_station_id  \\\n",
       "0               37.772000              -122.389970           349.0   \n",
       "1               37.782926              -122.387921           410.0   \n",
       "2               37.795001              -122.399970             6.0   \n",
       "3               37.795001              -122.399970             6.0   \n",
       "4               37.786375              -122.404904           363.0   \n",
       "\n",
       "                                  end_station_name  end_station_latitude  \\\n",
       "0                             Howard St at Mary St             37.781010   \n",
       "1                   Illinois St at Cesar Chavez St             37.750200   \n",
       "2                    The Embarcadero at Sansome St             37.804770   \n",
       "3                    The Embarcadero at Sansome St             37.804770   \n",
       "4  Salesforce Transit Center (Natoma St at 2nd St)             37.787492   \n",
       "\n",
       "   end_station_longitude  bike_id user_type rental_access_method  \n",
       "0            -122.405666    12085  Customer                  NaN  \n",
       "1            -122.386567     9477  Customer                  NaN  \n",
       "2            -122.403234    10420  Customer                  NaN  \n",
       "3            -122.403234     2065  Customer                  NaN  \n",
       "4            -122.398285    10219  Customer                  NaN  "
      ]
     },
     "execution_count": 14,
     "metadata": {},
     "output_type": "execute_result"
    }
   ],
   "source": [
    "df.head()"
   ]
  },
  {
   "cell_type": "code",
   "execution_count": 26,
   "metadata": {
    "scrolled": false,
    "slideshow": {
     "slide_type": "skip"
    }
   },
   "outputs": [
    {
     "data": {
      "text/html": [
       "<div>\n",
       "<style scoped>\n",
       "    .dataframe tbody tr th:only-of-type {\n",
       "        vertical-align: middle;\n",
       "    }\n",
       "\n",
       "    .dataframe tbody tr th {\n",
       "        vertical-align: top;\n",
       "    }\n",
       "\n",
       "    .dataframe thead th {\n",
       "        text-align: right;\n",
       "    }\n",
       "</style>\n",
       "<table border=\"1\" class=\"dataframe\">\n",
       "  <thead>\n",
       "    <tr style=\"text-align: right;\">\n",
       "      <th></th>\n",
       "      <th>duration_sec</th>\n",
       "      <th>start_station_id</th>\n",
       "      <th>start_station_latitude</th>\n",
       "      <th>start_station_longitude</th>\n",
       "      <th>end_station_id</th>\n",
       "      <th>end_station_latitude</th>\n",
       "      <th>end_station_longitude</th>\n",
       "      <th>bike_id</th>\n",
       "    </tr>\n",
       "  </thead>\n",
       "  <tbody>\n",
       "    <tr>\n",
       "      <th>count</th>\n",
       "      <td>150102.000000</td>\n",
       "      <td>129083.000000</td>\n",
       "      <td>150102.000000</td>\n",
       "      <td>150102.000000</td>\n",
       "      <td>128755.000000</td>\n",
       "      <td>150102.000000</td>\n",
       "      <td>150102.000000</td>\n",
       "      <td>150102.000000</td>\n",
       "    </tr>\n",
       "    <tr>\n",
       "      <th>mean</th>\n",
       "      <td>790.649752</td>\n",
       "      <td>166.216884</td>\n",
       "      <td>37.734527</td>\n",
       "      <td>-122.324810</td>\n",
       "      <td>157.234841</td>\n",
       "      <td>37.729180</td>\n",
       "      <td>-122.305736</td>\n",
       "      <td>98479.011719</td>\n",
       "    </tr>\n",
       "    <tr>\n",
       "      <th>std</th>\n",
       "      <td>2925.944647</td>\n",
       "      <td>139.504738</td>\n",
       "      <td>0.149011</td>\n",
       "      <td>0.167988</td>\n",
       "      <td>137.800047</td>\n",
       "      <td>0.480472</td>\n",
       "      <td>1.490201</td>\n",
       "      <td>217369.156650</td>\n",
       "    </tr>\n",
       "    <tr>\n",
       "      <th>min</th>\n",
       "      <td>60.000000</td>\n",
       "      <td>3.000000</td>\n",
       "      <td>37.268049</td>\n",
       "      <td>-122.513816</td>\n",
       "      <td>3.000000</td>\n",
       "      <td>0.000000</td>\n",
       "      <td>-122.513824</td>\n",
       "      <td>12.000000</td>\n",
       "    </tr>\n",
       "    <tr>\n",
       "      <th>25%</th>\n",
       "      <td>359.000000</td>\n",
       "      <td>52.000000</td>\n",
       "      <td>37.764802</td>\n",
       "      <td>-122.415674</td>\n",
       "      <td>38.000000</td>\n",
       "      <td>37.765026</td>\n",
       "      <td>-122.411726</td>\n",
       "      <td>9496.000000</td>\n",
       "    </tr>\n",
       "    <tr>\n",
       "      <th>50%</th>\n",
       "      <td>570.000000</td>\n",
       "      <td>116.000000</td>\n",
       "      <td>37.776664</td>\n",
       "      <td>-122.398279</td>\n",
       "      <td>109.000000</td>\n",
       "      <td>37.777053</td>\n",
       "      <td>-122.397086</td>\n",
       "      <td>11025.000000</td>\n",
       "    </tr>\n",
       "    <tr>\n",
       "      <th>75%</th>\n",
       "      <td>886.000000</td>\n",
       "      <td>266.000000</td>\n",
       "      <td>37.792251</td>\n",
       "      <td>-122.275698</td>\n",
       "      <td>252.000000</td>\n",
       "      <td>37.794130</td>\n",
       "      <td>-122.279352</td>\n",
       "      <td>12727.000000</td>\n",
       "    </tr>\n",
       "    <tr>\n",
       "      <th>max</th>\n",
       "      <td>912110.000000</td>\n",
       "      <td>498.000000</td>\n",
       "      <td>37.880222</td>\n",
       "      <td>-121.813425</td>\n",
       "      <td>498.000000</td>\n",
       "      <td>37.880222</td>\n",
       "      <td>0.000000</td>\n",
       "      <td>999941.000000</td>\n",
       "    </tr>\n",
       "  </tbody>\n",
       "</table>\n",
       "</div>"
      ],
      "text/plain": [
       "        duration_sec  start_station_id  start_station_latitude  \\\n",
       "count  150102.000000     129083.000000           150102.000000   \n",
       "mean      790.649752        166.216884               37.734527   \n",
       "std      2925.944647        139.504738                0.149011   \n",
       "min        60.000000          3.000000               37.268049   \n",
       "25%       359.000000         52.000000               37.764802   \n",
       "50%       570.000000        116.000000               37.776664   \n",
       "75%       886.000000        266.000000               37.792251   \n",
       "max    912110.000000        498.000000               37.880222   \n",
       "\n",
       "       start_station_longitude  end_station_id  end_station_latitude  \\\n",
       "count            150102.000000   128755.000000         150102.000000   \n",
       "mean               -122.324810      157.234841             37.729180   \n",
       "std                   0.167988      137.800047              0.480472   \n",
       "min                -122.513816        3.000000              0.000000   \n",
       "25%                -122.415674       38.000000             37.765026   \n",
       "50%                -122.398279      109.000000             37.777053   \n",
       "75%                -122.275698      252.000000             37.794130   \n",
       "max                -121.813425      498.000000             37.880222   \n",
       "\n",
       "       end_station_longitude        bike_id  \n",
       "count          150102.000000  150102.000000  \n",
       "mean             -122.305736   98479.011719  \n",
       "std                 1.490201  217369.156650  \n",
       "min              -122.513824      12.000000  \n",
       "25%              -122.411726    9496.000000  \n",
       "50%              -122.397086   11025.000000  \n",
       "75%              -122.279352   12727.000000  \n",
       "max                 0.000000  999941.000000  "
      ]
     },
     "execution_count": 26,
     "metadata": {},
     "output_type": "execute_result"
    }
   ],
   "source": [
    "df.describe()"
   ]
  },
  {
   "cell_type": "markdown",
   "metadata": {
    "slideshow": {
     "slide_type": "skip"
    }
   },
   "source": [
    "### Cleaning Data"
   ]
  },
  {
   "cell_type": "code",
   "execution_count": 34,
   "metadata": {
    "slideshow": {
     "slide_type": "skip"
    }
   },
   "outputs": [
    {
     "data": {
      "text/plain": [
       "(150102, 10)"
      ]
     },
     "execution_count": 34,
     "metadata": {},
     "output_type": "execute_result"
    }
   ],
   "source": [
    "df.shape"
   ]
  },
  {
   "cell_type": "code",
   "execution_count": 29,
   "metadata": {
    "slideshow": {
     "slide_type": "skip"
    }
   },
   "outputs": [
    {
     "data": {
      "text/plain": [
       "0"
      ]
     },
     "execution_count": 29,
     "metadata": {},
     "output_type": "execute_result"
    }
   ],
   "source": [
    "# Checking duplicates\n",
    "df.duplicated().sum()"
   ]
  },
  {
   "cell_type": "code",
   "execution_count": 5,
   "metadata": {
    "slideshow": {
     "slide_type": "skip"
    }
   },
   "outputs": [],
   "source": [
    "# Dropping unwanted columns\n",
    "df.drop(['start_station_latitude','start_station_longitude','end_station_latitude','end_station_longitude'], axis=1, inplace = True)"
   ]
  },
  {
   "cell_type": "code",
   "execution_count": 6,
   "metadata": {
    "slideshow": {
     "slide_type": "skip"
    }
   },
   "outputs": [],
   "source": [
    "# Change those colmns to timestamps\n",
    "df.start_time = pd.to_datetime(df.start_time)\n",
    "df.end_time = pd.to_datetime(df.end_time)"
   ]
  },
  {
   "cell_type": "code",
   "execution_count": 7,
   "metadata": {
    "slideshow": {
     "slide_type": "skip"
    }
   },
   "outputs": [],
   "source": [
    "# Change those colmns to objects\n",
    "df['start_station_id'] = df['start_station_id'].astype(str)\n",
    "df['end_station_id'] = df['end_station_id'].astype(str)\n",
    "df['bike_id'] = df['bike_id'].astype(str)"
   ]
  },
  {
   "cell_type": "code",
   "execution_count": 8,
   "metadata": {
    "slideshow": {
     "slide_type": "skip"
    }
   },
   "outputs": [],
   "source": [
    "# Change those colmns to categories\n",
    "df['user_type'] = df['user_type'].astype('category')\n",
    "df['rental_access_method'] = df['rental_access_method'].astype('category')"
   ]
  },
  {
   "cell_type": "code",
   "execution_count": 9,
   "metadata": {
    "slideshow": {
     "slide_type": "skip"
    }
   },
   "outputs": [],
   "source": [
    "# Adding start time weekday column\n",
    "df['start_time_weekday'] = df['start_time'].dt.strftime('%a')\n",
    "\n",
    "# Adding start time hour column\n",
    "df['start_time_hour'] = df['start_time'].dt.hour"
   ]
  },
  {
   "cell_type": "code",
   "execution_count": 10,
   "metadata": {
    "slideshow": {
     "slide_type": "skip"
    }
   },
   "outputs": [
    {
     "name": "stdout",
     "output_type": "stream",
     "text": [
      "<class 'pandas.core.frame.DataFrame'>\n",
      "RangeIndex: 150102 entries, 0 to 150101\n",
      "Data columns (total 12 columns):\n",
      " #   Column                Non-Null Count   Dtype         \n",
      "---  ------                --------------   -----         \n",
      " 0   duration_sec          150102 non-null  int64         \n",
      " 1   start_time            150102 non-null  datetime64[ns]\n",
      " 2   end_time              150102 non-null  datetime64[ns]\n",
      " 3   start_station_id      150102 non-null  object        \n",
      " 4   start_station_name    129087 non-null  object        \n",
      " 5   end_station_id        150102 non-null  object        \n",
      " 6   end_station_name      128757 non-null  object        \n",
      " 7   bike_id               150102 non-null  object        \n",
      " 8   user_type             150102 non-null  category      \n",
      " 9   rental_access_method  27681 non-null   category      \n",
      " 10  start_time_weekday    150102 non-null  object        \n",
      " 11  start_time_hour       150102 non-null  int64         \n",
      "dtypes: category(2), datetime64[ns](2), int64(2), object(6)\n",
      "memory usage: 11.7+ MB\n"
     ]
    }
   ],
   "source": [
    "df.info()"
   ]
  },
  {
   "cell_type": "code",
   "execution_count": 66,
   "metadata": {
    "scrolled": true,
    "slideshow": {
     "slide_type": "skip"
    }
   },
   "outputs": [
    {
     "data": {
      "text/html": [
       "<div>\n",
       "<style scoped>\n",
       "    .dataframe tbody tr th:only-of-type {\n",
       "        vertical-align: middle;\n",
       "    }\n",
       "\n",
       "    .dataframe tbody tr th {\n",
       "        vertical-align: top;\n",
       "    }\n",
       "\n",
       "    .dataframe thead th {\n",
       "        text-align: right;\n",
       "    }\n",
       "</style>\n",
       "<table border=\"1\" class=\"dataframe\">\n",
       "  <thead>\n",
       "    <tr style=\"text-align: right;\">\n",
       "      <th></th>\n",
       "      <th>duration_sec</th>\n",
       "      <th>start_time</th>\n",
       "      <th>end_time</th>\n",
       "      <th>start_station_id</th>\n",
       "      <th>start_station_name</th>\n",
       "      <th>end_station_id</th>\n",
       "      <th>end_station_name</th>\n",
       "      <th>bike_id</th>\n",
       "      <th>user_type</th>\n",
       "      <th>rental_access_method</th>\n",
       "      <th>start_time_weekday</th>\n",
       "      <th>start_time_hour</th>\n",
       "    </tr>\n",
       "  </thead>\n",
       "  <tbody>\n",
       "    <tr>\n",
       "      <th>12539</th>\n",
       "      <td>572</td>\n",
       "      <td>2019-12-23 19:37:43.151</td>\n",
       "      <td>2019-12-23 19:47:15.303</td>\n",
       "      <td>245.0</td>\n",
       "      <td>Downtown Berkeley BART</td>\n",
       "      <td>265.0</td>\n",
       "      <td>Ninth St at Parker St</td>\n",
       "      <td>2717</td>\n",
       "      <td>Customer</td>\n",
       "      <td>NaN</td>\n",
       "      <td>Mon</td>\n",
       "      <td>19</td>\n",
       "    </tr>\n",
       "    <tr>\n",
       "      <th>242</th>\n",
       "      <td>913</td>\n",
       "      <td>2019-12-31 20:21:10.984</td>\n",
       "      <td>2019-12-31 20:36:24.857</td>\n",
       "      <td>43.0</td>\n",
       "      <td>San Francisco Public Library (Grove St at Hyde...</td>\n",
       "      <td>74.0</td>\n",
       "      <td>Laguna St at Hayes St</td>\n",
       "      <td>576</td>\n",
       "      <td>Customer</td>\n",
       "      <td>NaN</td>\n",
       "      <td>Tue</td>\n",
       "      <td>20</td>\n",
       "    </tr>\n",
       "    <tr>\n",
       "      <th>62569</th>\n",
       "      <td>517</td>\n",
       "      <td>2019-12-12 17:35:38.552</td>\n",
       "      <td>2019-12-12 17:44:16.053</td>\n",
       "      <td>121.0</td>\n",
       "      <td>Mission Playground</td>\n",
       "      <td>124.0</td>\n",
       "      <td>19th St at Florida St</td>\n",
       "      <td>10725</td>\n",
       "      <td>Customer</td>\n",
       "      <td>NaN</td>\n",
       "      <td>Thu</td>\n",
       "      <td>17</td>\n",
       "    </tr>\n",
       "    <tr>\n",
       "      <th>127157</th>\n",
       "      <td>645</td>\n",
       "      <td>2019-12-13 13:24:31.000</td>\n",
       "      <td>2019-12-13 13:35:17.000</td>\n",
       "      <td>nan</td>\n",
       "      <td>NaN</td>\n",
       "      <td>nan</td>\n",
       "      <td>NaN</td>\n",
       "      <td>820513</td>\n",
       "      <td>Customer</td>\n",
       "      <td>app</td>\n",
       "      <td>Fri</td>\n",
       "      <td>13</td>\n",
       "    </tr>\n",
       "    <tr>\n",
       "      <th>33436</th>\n",
       "      <td>737</td>\n",
       "      <td>2019-12-18 08:09:11.060</td>\n",
       "      <td>2019-12-18 08:21:28.103</td>\n",
       "      <td>267.0</td>\n",
       "      <td>Derby St at College Ave</td>\n",
       "      <td>171.0</td>\n",
       "      <td>Rockridge BART Station</td>\n",
       "      <td>3010</td>\n",
       "      <td>Customer</td>\n",
       "      <td>NaN</td>\n",
       "      <td>Wed</td>\n",
       "      <td>8</td>\n",
       "    </tr>\n",
       "  </tbody>\n",
       "</table>\n",
       "</div>"
      ],
      "text/plain": [
       "        duration_sec              start_time                end_time  \\\n",
       "12539            572 2019-12-23 19:37:43.151 2019-12-23 19:47:15.303   \n",
       "242              913 2019-12-31 20:21:10.984 2019-12-31 20:36:24.857   \n",
       "62569            517 2019-12-12 17:35:38.552 2019-12-12 17:44:16.053   \n",
       "127157           645 2019-12-13 13:24:31.000 2019-12-13 13:35:17.000   \n",
       "33436            737 2019-12-18 08:09:11.060 2019-12-18 08:21:28.103   \n",
       "\n",
       "       start_station_id                                 start_station_name  \\\n",
       "12539             245.0                             Downtown Berkeley BART   \n",
       "242                43.0  San Francisco Public Library (Grove St at Hyde...   \n",
       "62569             121.0                                 Mission Playground   \n",
       "127157              nan                                                NaN   \n",
       "33436             267.0                            Derby St at College Ave   \n",
       "\n",
       "       end_station_id        end_station_name bike_id user_type  \\\n",
       "12539           265.0   Ninth St at Parker St    2717  Customer   \n",
       "242              74.0   Laguna St at Hayes St     576  Customer   \n",
       "62569           124.0   19th St at Florida St   10725  Customer   \n",
       "127157            nan                     NaN  820513  Customer   \n",
       "33436           171.0  Rockridge BART Station    3010  Customer   \n",
       "\n",
       "       rental_access_method start_time_weekday  start_time_hour  \n",
       "12539                   NaN                Mon               19  \n",
       "242                     NaN                Tue               20  \n",
       "62569                   NaN                Thu               17  \n",
       "127157                  app                Fri               13  \n",
       "33436                   NaN                Wed                8  "
      ]
     },
     "execution_count": 66,
     "metadata": {},
     "output_type": "execute_result"
    }
   ],
   "source": [
    "df.sample(5)"
   ]
  },
  {
   "cell_type": "markdown",
   "metadata": {
    "slideshow": {
     "slide_type": "slide"
    }
   },
   "source": [
    "### Univariate Exploration\n",
    "- **Why this visualization was created?** \n",
    "- In this part we will be generally exploring the main points in the data set, which is (duration_sec, start_time_hour, start_time_weekday) so we can see which points need further investigations to lead us for a key insight.\n",
    "\n",
    "\n",
    "\n",
    "**Points of interest in univariate exploration**\n",
    "\n",
    "- What is the duration of usage in seconds?\n",
    "- What is the peek weekdays?\n",
    "- What is the the peek hours?"
   ]
  },
  {
   "cell_type": "code",
   "execution_count": 67,
   "metadata": {
    "slideshow": {
     "slide_type": "skip"
    }
   },
   "outputs": [
    {
     "data": {
      "text/plain": [
       "count    150102.000000\n",
       "mean        790.649752\n",
       "std        2925.944647\n",
       "min          60.000000\n",
       "25%         359.000000\n",
       "50%         570.000000\n",
       "75%         886.000000\n",
       "max      912110.000000\n",
       "Name: duration_sec, dtype: float64"
      ]
     },
     "execution_count": 67,
     "metadata": {},
     "output_type": "execute_result"
    }
   ],
   "source": [
    "df['duration_sec'].describe()"
   ]
  },
  {
   "cell_type": "markdown",
   "metadata": {
    "slideshow": {
     "slide_type": "slide"
    }
   },
   "source": [
    "- Transformation was made here to dive deeper and see the points of interest in the duration_sec column. I set the ma to (5000 seconds) which equal to 83 minutes. As we can see from the histogram the trips made was not longer than 2000 sec (33 min), with peek arond 900 sec (15 min) per trip with very trips between 3000 and 4000 seconds."
   ]
  },
  {
   "cell_type": "code",
   "execution_count": 30,
   "metadata": {
    "slideshow": {
     "slide_type": "subslide"
    }
   },
   "outputs": [
    {
     "data": {
      "image/png": "[encoded data removed]",
      "text/plain": [
       "<Figure size 432x288 with 1 Axes>"
      ]
     },
     "metadata": {
      "needs_background": "light"
     },
     "output_type": "display_data"
    }
   ],
   "source": [
    "bins = np.arange(0, 5000, 60)\n",
    "plt.hist(data = df, x = 'duration_sec', bins = bins);\n",
    "plt.xlabel('Duration (Seconds)');\n",
    "plt.title(\"Trip duration in (Seconds)\".title(), fontsize = 10, weight = 'bold');"
   ]
  },
  {
   "cell_type": "markdown",
   "metadata": {
    "slideshow": {
     "slide_type": "slide"
    }
   },
   "source": [
    "- As we can see from the chart the peak hours between 8 to 9 a.m. then followed by similar peak volume between 4 to 6 p.m. then the trips decreases as we can see from the plot."
   ]
  },
  {
   "cell_type": "code",
   "execution_count": 47,
   "metadata": {
    "slideshow": {
     "slide_type": "subslide"
    }
   },
   "outputs": [
    {
     "data": {
      "image/png": "[encoded data removed]",
      "text/plain": [
       "<Figure size 576x360 with 1 Axes>"
      ]
     },
     "metadata": {
      "needs_background": "light"
     },
     "output_type": "display_data"
    }
   ],
   "source": [
    "plt.figure(figsize = [8, 5])\n",
    "base_color = sb.color_palette()[0]\n",
    "sb.countplot(data = df, x = 'start_time_hour', color = base_color);\n",
    "plt.title('Peak Hours'.title(), fontsize = 12, weight = 'bold');\n",
    "plt.xlabel('Start Time Hour');"
   ]
  },
  {
   "cell_type": "markdown",
   "metadata": {
    "slideshow": {
     "slide_type": "slide"
    }
   },
   "source": [
    "- The plot shows the peak days throughout a week with most peak days are Monday & Tuesday, then followed by little lower peak on Thursday & Friday."
   ]
  },
  {
   "cell_type": "code",
   "execution_count": 48,
   "metadata": {
    "slideshow": {
     "slide_type": "subslide"
    }
   },
   "outputs": [
    {
     "data": {
      "image/png": "[encoded data removed]",
      "text/plain": [
       "<Figure size 576x360 with 1 Axes>"
      ]
     },
     "metadata": {
      "needs_background": "light"
     },
     "output_type": "display_data"
    }
   ],
   "source": [
    "plt.figure(figsize = [8, 5])\n",
    "base_color = sb.color_palette()[0]\n",
    "start_time_order = ['Mon', 'Tue', 'Wed', 'Thu', 'Fri', 'Sat', 'Sun']\n",
    "sb.countplot(data = df, x = 'start_time_weekday', color = base_color, order = start_time_order);\n",
    "plt.title('Peak Weekdays'.title(), fontsize = 12, weight = 'bold');\n",
    "plt.xlabel('Start Time Weekday');"
   ]
  },
  {
   "cell_type": "markdown",
   "metadata": {
    "slideshow": {
     "slide_type": "slide"
    }
   },
   "source": [
    "### Bivariate Exploration\n",
    "- **Why this visualization was created?** \n",
    "- In the bivariate exploration we will be analysing two variables in each plot, so we can see if there is a relationship between the variables we analysed, and to see what the data will reveal to us from relationships between the variables.  \n",
    "\n",
    "\n",
    "- Adding another variable for our exploration (user_type), is there a relationship between the variables? \n",
    "- which user type uses the bicycle sharing system more often? will it lead to find a key insight for the analysis?"
   ]
  },
  {
   "cell_type": "markdown",
   "metadata": {},
   "source": [
    "### The relationship between user_type and start_time_weekday\n",
    "\n",
    "- The plot shows that Subscribers are most likely to use the system more throughout the weekdays, but on (Sat, Sun, Wed) we can see similarity in usage for both users type (Subscribers & Customers) with not very much diffence for Subscribers, which might need more exploration to see which user type is using the system more frquently."
   ]
  },
  {
   "cell_type": "code",
   "execution_count": 34,
   "metadata": {},
   "outputs": [
    {
     "data": {
      "image/png": "[encoded data removed]",
      "text/plain": [
       "<Figure size 720x360 with 1 Axes>"
      ]
     },
     "metadata": {
      "needs_background": "light"
     },
     "output_type": "display_data"
    }
   ],
   "source": [
    "plt.figure(figsize = [10, 5])\n",
    "start_time_order = ['Mon', 'Tue', 'Wed', 'Thu', 'Fri', 'Sat', 'Sun']\n",
    "sb.countplot(data = df, x = 'start_time_weekday', hue = 'user_type', order = start_time_order);\n",
    "plt.title('Start Time Weekday'.title(), fontsize = 13, weight = 'bold');\n",
    "plt.xlabel('Start Time Weekday');"
   ]
  },
  {
   "cell_type": "markdown",
   "metadata": {
    "slideshow": {
     "slide_type": "slide"
    }
   },
   "source": [
    "### The relationship between user_type and start_time_hour\n",
    "- The plot shows that subscribers are most likely to use the system throughout the day, with similarity in usage for both users type (Subscribers & Customers) on 11 p.m., the usage throughout the 24 hours shows little more use to the system from the subscribers user.\n",
    "- Will it lead to different results of user type usage when exploring the user type with another variable from the data set?"
   ]
  },
  {
   "cell_type": "code",
   "execution_count": 40,
   "metadata": {
    "slideshow": {
     "slide_type": "subslide"
    }
   },
   "outputs": [
    {
     "data": {
      "image/png": "[encoded data removed]",
      "text/plain": [
       "<Figure size 720x360 with 1 Axes>"
      ]
     },
     "metadata": {
      "needs_background": "light"
     },
     "output_type": "display_data"
    }
   ],
   "source": [
    "plt.figure(figsize = [10, 5])\n",
    "sb.countplot(data = df, x = 'start_time_hour', hue = 'user_type');\n",
    "plt.title('Start Time Hour'.title(), fontsize = 13, weight = 'bold');\n",
    "plt.xlabel('Start Time Hour');"
   ]
  },
  {
   "cell_type": "markdown",
   "metadata": {},
   "source": [
    "###  The relationship between user_type and duration_sec\n",
    "\n",
    "- The mean shows that user type Customer trip duration is more than the Suscribers. which is shows a reationship between duration in seconds and user type."
   ]
  },
  {
   "cell_type": "code",
   "execution_count": 43,
   "metadata": {},
   "outputs": [
    {
     "data": {
      "image/png": "[encoded data removed]",
      "text/plain": [
       "<Figure size 432x288 with 1 Axes>"
      ]
     },
     "metadata": {
      "needs_background": "light"
     },
     "output_type": "display_data"
    }
   ],
   "source": [
    "bins = np.arange(0, 5000, 60)\n",
    "base_color = sb.color_palette()[0]\n",
    "sb.barplot(data = df, x = 'user_type', y = 'duration_sec', color = base_color, ci = 'sd');\n",
    "plt.title('User Type usage With Trip Duration in Seconds'.title(), fontsize = 10, weight = 'bold');\n",
    "plt.xlabel('User Type');\n",
    "plt.ylabel('Duration (Seconds)');"
   ]
  },
  {
   "cell_type": "markdown",
   "metadata": {
    "slideshow": {
     "slide_type": "slide"
    }
   },
   "source": [
    "### The relationship between user_type and duration_sec \n",
    "- The average for both users type (Subscribers & Customers) with higher trip duration for Customers. Customer trip duration 900 seconds (15 min) for subscriber its 700 seconds (11.6 min), the difference is 3.4 min for the customer.\n",
    "- That is probably because the Subscribers are using it for short trips such as work or school, on the other hand the Customers are using it more for longer trips around the bay area."
   ]
  },
  {
   "cell_type": "code",
   "execution_count": 70,
   "metadata": {
    "slideshow": {
     "slide_type": "subslide"
    }
   },
   "outputs": [
    {
     "data": {
      "image/png": "[encoded data removed]",
      "text/plain": [
       "<Figure size 720x360 with 1 Axes>"
      ]
     },
     "metadata": {
      "needs_background": "light"
     },
     "output_type": "display_data"
    }
   ],
   "source": [
    "plt.figure(figsize = [10, 5])\n",
    "\n",
    "sb.barplot(data = df, x = 'user_type', y = 'duration_sec');\n",
    "plt.title('User Type usage With Trip Duration in Seconds'.title(), fontsize = 10, weight = 'bold');\n",
    "plt.xlabel('User Type');\n",
    "plt.ylabel('Duration (Seconds)');"
   ]
  },
  {
   "cell_type": "markdown",
   "metadata": {
    "slideshow": {
     "slide_type": "slide"
    }
   },
   "source": [
    "### Multivariate Exploration\n",
    "**Why this visualization was created?**\n",
    "- Creating a plots of the relationship between user_type, duration_sec, start_time_weekday, and start_time_hour. I see that user_type had the clearest interactions with duration_sec variable. We will explor more when testing three variables toghter in order to get clear image about the user type. \n",
    "\n",
    "\n",
    "- How clearly does this show up in a multivariate visualization when i add duration_sec variable? "
   ]
  },
  {
   "cell_type": "markdown",
   "metadata": {
    "slideshow": {
     "slide_type": "slide"
    }
   },
   "source": [
    "### The relationship between user_type, duration_sec and start_time_weekday\n",
    "- The plot shows that Subscribers are most likely to use it throughout the weekdays, but on (Sat, Sun, Wed) we can see similarity in usage for both users type (Subscribers & Customers) with little difference for subscribers. lets dig deeper to have clear image about the user type usage."
   ]
  },
  {
   "cell_type": "code",
   "execution_count": 72,
   "metadata": {
    "slideshow": {
     "slide_type": "subslide"
    }
   },
   "outputs": [
    {
     "data": {
      "image/png": "[encoded data removed]",
      "text/plain": [
       "<Figure size 864x360 with 1 Axes>"
      ]
     },
     "metadata": {
      "needs_background": "light"
     },
     "output_type": "display_data"
    }
   ],
   "source": [
    "plt.figure(figsize = [12, 5])\n",
    "start_time_order = ['Mon', 'Tue', 'Wed', 'Thu', 'Fri', 'Sat', 'Sun']\n",
    "\n",
    "g = sb.countplot(data = df, x = 'start_time_weekday', hue = 'user_type', order = start_time_order);\n",
    "plt.title('user type usage in start time weekday with trip duration in sec'.title(), fontsize = 14, weight = 'bold');\n",
    "g.set_xlabel('Start Time Weekday')\n",
    "g.set_ylabel('Duration (seconds)');\n"
   ]
  },
  {
   "cell_type": "markdown",
   "metadata": {
    "slideshow": {
     "slide_type": "slide"
    }
   },
   "source": [
    "### The relationship between user_type, duration_sec and start_time_weekday \n",
    "- As we can see the average for both users type (Subscribers & Customers) with higher trip duration for Customers in start_time_weekday.\n",
    "\n",
    "- The results support our findings in (Bivariate Exploration) that probably the Subscribers are using it for short trips such as work or school, and Customers are using it more for longer trips around the bay area, with higher duration of usage for the customers user type in all the days specially on Sat and Sun.\n",
    "\n",
    "- Does the results apply in a same way with another variable in the data set?"
   ]
  },
  {
   "cell_type": "code",
   "execution_count": 62,
   "metadata": {
    "slideshow": {
     "slide_type": "subslide"
    }
   },
   "outputs": [
    {
     "data": {
      "image/png": "[encoded data removed]",
      "text/plain": [
       "<Figure size 864x360 with 1 Axes>"
      ]
     },
     "metadata": {
      "needs_background": "light"
     },
     "output_type": "display_data"
    }
   ],
   "source": [
    "plt.figure(figsize = [12, 5])\n",
    "start_time_order = ['Mon', 'Tue', 'Wed', 'Thu', 'Fri', 'Sat', 'Sun']\n",
    "\n",
    "ax = sb.barplot(data = df, x = 'start_time_weekday', y = 'duration_sec', hue = 'user_type', \n",
    "                  dodge = 0.5, palette = 'viridis', order = start_time_order)\n",
    "\n",
    "plt.xlabel('Start Time Weekday')\n",
    "plt.ylabel('Duration (Seconds)')\n",
    "plt.title(\"user type usage in start time weekday with trip duration in sec\".title(),\n",
    "         fontsize = 14, weight = 'bold')\n",
    "\n",
    "\n",
    "plt.show();"
   ]
  },
  {
   "cell_type": "markdown",
   "metadata": {
    "slideshow": {
     "slide_type": "slide"
    }
   },
   "source": [
    "### The relationship between user_type, duration_sec and start_time_hour \n",
    "- This prove our findings because even on the start_time_hour (24 hours) customers are more likely to use it with higher trip duration in sec as we can see, which prove that the customers are using the bicycle sharing system more than the subscribers in duration as the plot shows."
   ]
  },
  {
   "cell_type": "code",
   "execution_count": 68,
   "metadata": {
    "slideshow": {
     "slide_type": "subslide"
    }
   },
   "outputs": [
    {
     "data": {
      "image/png": "[encoded data removed]",
      "text/plain": [
       "<Figure size 864x360 with 1 Axes>"
      ]
     },
     "metadata": {
      "needs_background": "light"
     },
     "output_type": "display_data"
    }
   ],
   "source": [
    "plt.figure(figsize = [12, 5])\n",
    "\n",
    "ax = sb.barplot(data = df, x = 'start_time_hour', y = 'duration_sec', hue = 'user_type', \n",
    "                  dodge = 0.5, palette = 'viridis')\n",
    "\n",
    "plt.xlabel('Start Time Hour')\n",
    "plt.ylabel('Duration (Seconds)')\n",
    "plt.title(\"user type usage in start time hour with trip duration in sec\".title(),\n",
    "         fontsize = 14, weight = 'bold')\n",
    "\n",
    "plt.show();"
   ]
  },
  {
   "cell_type": "markdown",
   "metadata": {
    "slideshow": {
     "slide_type": "slide"
    }
   },
   "source": [
    "### Conclusion\n",
    "\n",
    "- In the bivariate exploration step we saw the the user type shows that subscribers are using more frquently in start_time_hour and in start_time_weekday, when we plotted user type and duration_sec we saw that customers trip duration_sec set to be higher than the subscribers. Which lead s to do further exploration in the multivariate stage, searching for a relationship between user_type, duration_sec, start_time_weekday, and start_time_hour. we saw that user_type had the clearest interactions with duration_sec variable, which we explor more when testing three variables toghter in order to get clear image about the user type, and the results showed us that the average for both users type (Subscribers & Customers) with higher trip duration for Customers in start_time_weekday, even on the start_time_hour customers are more likely to use it with higher trip duration in sec as we can see, which prove that the customers are using the bicycle sharing system more than the subscribers in duration_sec as the plots showed us. That lead us for or key insight that without further exploration we will not reach this results as the some plots showed that the subscribers are using it more on daily and weekly basis but when we added a three varbiables specially duration_sec with user_type against start_time_weekday or start_time_hour we clearly can see that the customer are using it with higher duration in seconds. Customer trip duration 900 seconds (15 min) for subscriber its 700 seconds (11.6 min), the difference is 3.4 min for the customer. "
   ]
  },
  {
   "cell_type": "markdown",
   "metadata": {
    "slideshow": {
     "slide_type": "slide"
    }
   },
   "source": [
    "### Limitations \n",
    "\n",
    "- In the data set we have there is no gender or age columns in our data, that might have help us for our exploration specially in start_time_hour and start_time_weekday so we can know the age of the rider and the gender so it can lead us to do further investigations in or data and find more key insights."
   ]
  },
  {
   "cell_type": "markdown",
   "metadata": {
    "slideshow": {
     "slide_type": "slide"
    }
   },
   "source": [
    "### References\n",
    "\n",
    "- https://classroom.udacity.com/nanodegrees/nd002/parts/9f7e8991-8bfb-4103-8307-3b6f93f0ecc7/modules/1dc09d28-5703-493c-aab5-a418b8bfa3e1/lessons/495fe81e-ebe8-4d10-a4a2-e85fe01565bd/concepts/469d2cf9-8e2b-42e3-977b-4614caf320d0\n",
    "\n",
    "- https://classroom.udacity.com/nanodegrees/nd002/parts/9f7e8991-8bfb-4103-8307-3b6f93f0ecc7\n",
    "\n",
    "- https://knowledge.udacity.com\n",
    "\n",
    "- https://www.drawingfromdata.com/setting-figure-size-using-seaborn-and-matplotlib"
   ]
  }
 ],
 "metadata": {
  "celltoolbar": "Raw Cell Format",
  "kernelspec": {
   "display_name": "Python 3",
   "language": "python",
   "name": "python3"
  },
  "language_info": {
   "codemirror_mode": {
    "name": "ipython",
    "version": 3
   },
   "file_extension": ".py",
   "mimetype": "text/x-python",
   "name": "python",
   "nbconvert_exporter": "python",
   "pygments_lexer": "ipython3",
   "version": "3.7.6"
  }
 },
 "nbformat": 4,
 "nbformat_minor": 4
}
